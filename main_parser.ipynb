{
 "cells": [
  {
   "cell_type": "code",
   "execution_count": 1,
   "metadata": {},
   "outputs": [],
   "source": [
    "from selenium import webdriver"
   ]
  },
  {
   "cell_type": "code",
   "execution_count": 2,
   "metadata": {},
   "outputs": [
    {
     "name": "stdout",
     "output_type": "stream",
     "text": [
      "['#MIvsKKR', '#MumbaiIndians', '#RohithSharma', '#maharastralockdown', '#KKRHaiTaiyaar']\n"
     ]
    }
   ],
   "source": [
    "chrome_path = r'C:\\Users\\Asus\\anaconda3\\Lib\\site-packages\\selenium\\webdriver\\chromedriver.exe'\n",
    "\n",
    "browser=webdriver.Chrome(chrome_path)\n",
    "browser.get('https://twitter.com/explore/tabs/trending')\n",
    "\n",
    "\n",
    "import time\n",
    "\n",
    "time.sleep(10)\n",
    "\n",
    "browser_elements = browser.find_elements_by_tag_name('span')\n",
    "\n",
    "list = []\n",
    "for i in browser_elements:\n",
    "    text_elements = i.get_attribute('textContent')\n",
    "    if(text_elements.startswith('#')):\n",
    "        if text_elements not in list:\n",
    "            list.append(text_elements)\n",
    "    \n",
    "print(list)"
   ]
  },
  {
   "cell_type": "code",
   "execution_count": 3,
   "metadata": {},
   "outputs": [
    {
     "name": "stdout",
     "output_type": "stream",
     "text": [
      "['https://twitter.com/search?q=%23MIvsKKR&src=trend_click&vertical=trends', 'https://twitter.com/search?q=%23MumbaiIndians&src=trend_click&vertical=trends', 'https://twitter.com/search?q=%23RohithSharma&src=trend_click&vertical=trends', 'https://twitter.com/search?q=%23maharastralockdown&src=trend_click&vertical=trends', 'https://twitter.com/search?q=%23KKRHaiTaiyaar&src=trend_click&vertical=trends']\n"
     ]
    }
   ],
   "source": [
    "urls = []\n",
    "\n",
    "for i in list:\n",
    "    i = i[1:]\n",
    "    url = 'https://twitter.com/search?q=%23'+i+'&src=trend_click&vertical=trends'+''\n",
    "    urls.append(url)\n",
    "print(urls)"
   ]
  },
  {
   "cell_type": "code",
   "execution_count": null,
   "metadata": {},
   "outputs": [],
   "source": []
  }
 ],
 "metadata": {
  "kernelspec": {
   "display_name": "Python 3",
   "language": "python",
   "name": "python3"
  },
  "language_info": {
   "codemirror_mode": {
    "name": "ipython",
    "version": 3
   },
   "file_extension": ".py",
   "mimetype": "text/x-python",
   "name": "python",
   "nbconvert_exporter": "python",
   "pygments_lexer": "ipython3",
   "version": "3.8.5"
  }
 },
 "nbformat": 4,
 "nbformat_minor": 4
}
